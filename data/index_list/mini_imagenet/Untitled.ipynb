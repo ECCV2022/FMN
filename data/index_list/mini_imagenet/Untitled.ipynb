{
 "cells": [
  {
   "cell_type": "code",
   "execution_count": 63,
   "id": "e0e8dced-9980-44d3-85c1-712af3cb98c1",
   "metadata": {},
   "outputs": [],
   "source": [
    "import torch\n",
    "import numpy as np\n",
    "import os\n",
    "from tqdm import tqdm"
   ]
  },
  {
   "cell_type": "code",
   "execution_count": 64,
   "id": "43d25625-0e74-4f40-bf3e-12d488948150",
   "metadata": {},
   "outputs": [],
   "source": [
    "file_list = list()\n",
    "with open(\"session_9.txt\", \"r\") as f:\n",
    "    for line in f.readlines():\n",
    "        line = line.strip('\\n')\n",
    "        line = line.split('/')[2]\n",
    "        file_list.append(line)\n"
   ]
  },
  {
   "cell_type": "code",
   "execution_count": 65,
   "id": "4a61ae07-9f6e-4d77-a7a1-13332419b1aa",
   "metadata": {},
   "outputs": [],
   "source": [
    "file_list = list(set(file_list))"
   ]
  },
  {
   "cell_type": "code",
   "execution_count": 66,
   "id": "9dbb56dd-f935-456c-be00-d78566c5f297",
   "metadata": {},
   "outputs": [],
   "source": [
    "len(file_list)\n",
    "item_list=list()"
   ]
  },
  {
   "cell_type": "code",
   "execution_count": 67,
   "id": "f611dfe6-28e7-4e95-935b-340960a38884",
   "metadata": {},
   "outputs": [
    {
     "name": "stderr",
     "output_type": "stream",
     "text": [
      "100%|██████████| 5/5 [00:00<00:00, 13131.82it/s]"
     ]
    },
    {
     "name": "stdout",
     "output_type": "stream",
     "text": [
      "n13054560\n",
      "n13133613\n",
      "n09256479\n",
      "n09246464\n",
      "n07747607\n"
     ]
    },
    {
     "name": "stderr",
     "output_type": "stream",
     "text": [
      "\n"
     ]
    }
   ],
   "source": [
    "for item in tqdm(file_list):\n",
    "    print(item)"
   ]
  },
  {
   "cell_type": "code",
   "execution_count": 68,
   "id": "17630191-18e4-444c-83f6-0df112af8cae",
   "metadata": {},
   "outputs": [
    {
     "name": "stderr",
     "output_type": "stream",
     "text": [
      "100%|██████████| 5/5 [00:00<00:00, 36.14it/s]\n"
     ]
    }
   ],
   "source": [
    "with open(\"train.txt\", \"r\") as s:\n",
    "    tmp = s.readlines()\n",
    "    for item in tqdm(file_list):\n",
    "        for line2 in tmp:\n",
    "            line2 = line2.strip('\\n')\n",
    "            if line2.split('/')[2]==item:\n",
    "                item_list.append(line2)"
   ]
  },
  {
   "cell_type": "code",
   "execution_count": 69,
   "id": "c2376e94-c19f-4b10-9cfc-1535a8cc48f0",
   "metadata": {},
   "outputs": [
    {
     "data": {
      "text/plain": [
       "2500"
      ]
     },
     "execution_count": 69,
     "metadata": {},
     "output_type": "execute_result"
    }
   ],
   "source": [
    "len(item_list)"
   ]
  },
  {
   "cell_type": "code",
   "execution_count": 70,
   "id": "fe1db9b5-624f-47a7-83f0-28718fef6e19",
   "metadata": {},
   "outputs": [],
   "source": [
    "with open('/home/LiuBinghao/Workspace/code/CEC-CVPR2021/data/index_list/mini_imagenet_v2/session_9.txt','w',encoding='utf-8') as f:\n",
    "    for item in item_list:\n",
    "        item = item+'\\n'\n",
    "        f.write(item)"
   ]
  },
  {
   "cell_type": "code",
   "execution_count": null,
   "id": "19ad5171-8eb8-4280-8bab-9bbcf392aedd",
   "metadata": {},
   "outputs": [],
   "source": []
  },
  {
   "cell_type": "code",
   "execution_count": null,
   "id": "080f3762-1534-43e5-935d-770d8a198ba7",
   "metadata": {},
   "outputs": [],
   "source": []
  }
 ],
 "metadata": {
  "kernelspec": {
   "display_name": "Python 3 (ipykernel)",
   "language": "python",
   "name": "python3"
  },
  "language_info": {
   "codemirror_mode": {
    "name": "ipython",
    "version": 3
   },
   "file_extension": ".py",
   "mimetype": "text/x-python",
   "name": "python",
   "nbconvert_exporter": "python",
   "pygments_lexer": "ipython3",
   "version": "3.7.0"
  }
 },
 "nbformat": 4,
 "nbformat_minor": 5
}
